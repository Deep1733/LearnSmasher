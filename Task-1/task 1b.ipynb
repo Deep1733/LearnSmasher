{
 "cells": [
  {
   "cell_type": "markdown",
   "id": "d92ad558",
   "metadata": {},
   "source": [
    "# Through the diagnosis test I predicted 100 report as \n",
    "COVID positive, but only 45 of those were actually positive. \n",
    "Total 50 people in my sample were actually COVID \n",
    "positive. I have total 500 samples. Create confusion matrix \n",
    "based on above data and find I. Accuracy II. Precision III. \n",
    "Recall IV. F-1 score."
   ]
  },
  {
   "cell_type": "code",
   "execution_count": 8,
   "id": "f58725aa",
   "metadata": {},
   "outputs": [
    {
     "name": "stdout",
     "output_type": "stream",
     "text": [
      "Accuracy: 0.88\n",
      "Precision: 0.45\n",
      "Recall: 0.9\n",
      "F1 Score: 0.6\n"
     ]
    }
   ],
   "source": [
    "total_samples = 500\n",
    "predicted_positive = 100\n",
    "actual_positive = 50\n",
    "true_positive = 45\n",
    "\n",
    "# Calculate the metrics\n",
    "false_positive = predicted_positive - true_positive\n",
    "false_negative = actual_positive - true_positive\n",
    "true_negative = total_samples - (true_positive + false_positive + false_negative)\n",
    "\n",
    "# Calculate accuracy\n",
    "accuracy = (true_positive + true_negative) / total_samples\n",
    "\n",
    "# Calculate precision\n",
    "precision = true_positive / (true_positive + false_positive)\n",
    "\n",
    "# Calculate recall\n",
    "recall = true_positive / (true_positive + false_negative)\n",
    "\n",
    "# Calculate F1 score\n",
    "f1_score = 2 * (precision * recall) / (precision + recall)\n",
    "\n",
    "# Print the metrics\n",
    "print(\"Accuracy:\", accuracy)\n",
    "print(\"Precision:\", precision)\n",
    "print(\"Recall:\", recall)\n",
    "print(\"F1 Score:\", f1_score)"
   ]
  },
  {
   "cell_type": "code",
   "execution_count": null,
   "id": "b64b0f19",
   "metadata": {},
   "outputs": [],
   "source": []
  }
 ],
 "metadata": {
  "kernelspec": {
   "display_name": "Python 3 (ipykernel)",
   "language": "python",
   "name": "python3"
  },
  "language_info": {
   "codemirror_mode": {
    "name": "ipython",
    "version": 3
   },
   "file_extension": ".py",
   "mimetype": "text/x-python",
   "name": "python",
   "nbconvert_exporter": "python",
   "pygments_lexer": "ipython3",
   "version": "3.11.3"
  }
 },
 "nbformat": 4,
 "nbformat_minor": 5
}
